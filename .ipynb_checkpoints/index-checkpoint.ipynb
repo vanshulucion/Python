{
 "cells": [
  {
   "cell_type": "raw",
   "id": "b8d28244-6477-4eb9-be9b-f11ebc4386b6",
   "metadata": {},
   "source": [
    "Day1:The Beginning\n",
    "\n",
    "~ conversion (:-)\n",
    "~ mutable/immutable(:-)\n",
    "~ loops:for (:-)\n",
    "~ conditional statement\n",
    "~ function \n",
    "~ try catch finally\n",
    "~ switch\n",
    "~ functioning of data types\n",
    "~ classes \n",
    "~ operators (:-)\n",
    "~ range(:-)\n",
    "~ indexing(:-)\n",
    "~ slicing(:-)"
   ]
  },
  {
   "cell_type": "code",
   "execution_count": 10,
   "id": "bfa53c86-97b0-40b5-853e-90679baec060",
   "metadata": {},
   "outputs": [
    {
     "name": "stdout",
     "output_type": "stream",
     "text": [
      "a= 5\n"
     ]
    }
   ],
   "source": [
    "# date(09/8/23)-slot1;slot2\n",
    "# date(10/8/23)-slot1;slot2\n",
    "# date(11/8/23)-slot1,slot2\n",
    "# date(12/8/23)-Revision,doubt session + slot1\n",
    "# date(13/8/23)-Revision,doubt session + slot1\n",
    "# 14 : practice+doubt\n",
    "# 15 : doubt + slot1"
   ]
  },
  {
   "cell_type": "code",
   "execution_count": 10,
   "id": "c7d9f0b8-5592-4a6e-9ce7-aee2f63fcfe5",
   "metadata": {},
   "outputs": [
    {
     "name": "stdout",
     "output_type": "stream",
     "text": [
      "a= 5\n"
     ]
    }
   ],
   "source": [
    "#for printing\n",
    "a=5\n",
    "print('a=', a)"
   ]
  },
  {
   "cell_type": "code",
   "execution_count": 13,
   "id": "373535d0-e595-4700-9002-6ed3bbeacf39",
   "metadata": {},
   "outputs": [
    {
     "name": "stdout",
     "output_type": "stream",
     "text": [
      "23\n",
      "vanshita\n",
      "51.9\n",
      "True False\n",
      "(3+4j)\n",
      "[88, 78, 82, 50, 90]\n",
      "('math', 'science', 'chemistry', 'zoology', 'botany')\n",
      "{'kaveri', 'son', 'ganga', 'yamuna'}\n",
      "{'eucalyptus', 'banyan', 'ashoka', 'peepal'}\n",
      "{'math': 88, 'science': 92, 'ethics': 78}\n"
     ]
    }
   ],
   "source": [
    "#types of variable\n",
    "\n",
    "# INTEGER\n",
    "age=23\n",
    "print(age)\n",
    "\n",
    "# STRING\n",
    "name=\"vanshita\"\n",
    "print(name)\n",
    "\n",
    "# DECIMAL\n",
    "weight=51.9\n",
    "print(weight)\n",
    "\n",
    "#BOOLEAN\n",
    "isTalented=True #here 'isTalented' is Camel Case format where first character start as a lowercase which next one's begin with uppercase\n",
    "isDumb=False\n",
    "print(isTalented,isDumb)\n",
    "\n",
    "#COMPLEX\n",
    "math=3+4j\n",
    "print(math)\n",
    "\n",
    "#LIST\n",
    "scores=[88,78,82,50,90]\n",
    "print(scores)\n",
    "\n",
    "#TUPLE\n",
    "subjects=(\"math\",\"science\",\"chemistry\",\"zoology\",\"botany\")\n",
    "print(subjects)\n",
    "\n",
    "#SET(it always takes unique entry only, implies it remove extra value)\n",
    "river={\"ganga\",\"yamuna\",\"ganga\",\"kaveri\",\"son\",\"son\",\"son\"}\n",
    "tree=set([\"peepal\",\"ashoka\",\"eucalyptus\",\"ashoka\",\"banyan\"])\n",
    "print(river)\n",
    "print(tree)\n",
    "\n",
    "#DICTIONARY\n",
    "highSchoolScore={\"math\":88,\"science\":92,\"ethics\":78} #called OBJECT in JS, as HASHNAP in C++/C\n",
    "print(highSchoolScore)\n"
   ]
  },
  {
   "cell_type": "code",
   "execution_count": 27,
   "id": "7d007638-c83d-4cfd-bbc8-2c825003ed80",
   "metadata": {},
   "outputs": [
    {
     "name": "stdout",
     "output_type": "stream",
     "text": [
      "a= 0 b= 7\n",
      "a<b= True\n",
      "a>b= False\n",
      "a==b= False\n",
      "a<=b= True\n",
      "a>=b= False\n",
      "a!=b= True\n",
      "a or b= 7\n",
      "a and b= 0\n",
      "not a= True\n",
      "not b= False\n",
      "False\n",
      "True\n",
      "True\n",
      "False\n"
     ]
    }
   ],
   "source": [
    "#conditional operators\n",
    "# (<,>,==,!=,<=,>=,in,or,not,and)\n",
    "# output will either be true or false\n",
    "# 0=false else true\n",
    "# a=a+1 (mathematician says this equation is false whereas coder/programmer says this equation is true. Why?)\n",
    "# a=a+1 ((in maths '=' used for comparision; in coding '=' used for assignment(to reassign the vaue); '==' used for comparision in coding))\n",
    "a,b=0,7\n",
    "print(\"a=\",a,\"b=\",b)\n",
    "print(\"a<b=\",a<b)\n",
    "print(\"a>b=\",a>b)\n",
    "print(\"a==b=\",a==b)\n",
    "print(\"a<=b=\",a<=b)\n",
    "print(\"a>=b=\",a>=b)\n",
    "print(\"a!=b=\",a!=b)\n",
    "print(\"a or b=\",a or b)\n",
    "print(\"a and b=\",a and b)\n",
    "print(\"not a=\",not a)\n",
    "print(\"not b=\",not b)\n",
    "lst=[\"red\",\"green\",\"blue\",\"yellow\"]\n",
    "st={\"peepal\",\"ashoka\",\"eucalyptus\",\"ashoka\",\"banyan\"}\n",
    "dic={\"math\":88,\"science\":92,\"ethics\":78}\n",
    "tpl=(\"math\",\"science\",\"chemistry\",\"zoology\",\"botany\")\n",
    "print(\"black\" in lst)\n",
    "print(\"math\" in tpl)\n",
    "print(\"peepal\" in st)\n",
    "print(\"economy\" in dic)\n"
   ]
  },
  {
   "cell_type": "code",
   "execution_count": 8,
   "id": "67b1afff-faa0-4392-988a-1f14507919ac",
   "metadata": {},
   "outputs": [
    {
     "name": "stdout",
     "output_type": "stream",
     "text": [
      "{'math': 90, 'science': 90, 'ethics': 90}\n"
     ]
    }
   ],
   "source": [
    "dic={\"math\":90,\"science\":90,\"ethics\":90}\n",
    "print(dic) # key:value pair; in dictionary key will never be repeated whereas values could be same"
   ]
  },
  {
   "cell_type": "code",
   "execution_count": 20,
   "id": "0ed13b84-7934-4efe-9a81-498d02bb2194",
   "metadata": {},
   "outputs": [
    {
     "name": "stdout",
     "output_type": "stream",
     "text": [
      "<class 'dict'>\n"
     ]
    }
   ],
   "source": [
    "a={20:1,200:2,2000:3,20000:4}\n",
    "print(type(a)) # everything is class in python #float=deccimal\n"
   ]
  },
  {
   "cell_type": "code",
   "execution_count": 46,
   "id": "b094eda3-e72d-4e2c-9f7c-f28499e6668e",
   "metadata": {
    "scrolled": true
   },
   "outputs": [
    {
     "name": "stdout",
     "output_type": "stream",
     "text": [
      "5 5 5.0\n",
      "5.3 5 5.3\n",
      "5 5\n",
      "5.0 5.0\n",
      "False False False\n",
      "['T', 'W', 'Y', 'E', 'R', 'Q']\n",
      "{'he': 1000, 'she': 800, 'thirdgender': 300}\n",
      "['he', 'she', 'thirdgender']\n",
      "[1000, 800, 300]\n",
      "[('he', 1000), ('she', 800), ('thirdgender', 300)]\n"
     ]
    }
   ],
   "source": [
    "a='hello' #not all the time string could be converted to integer but exceptional exist\n",
    "# '5'(str) => 5(int), 5.0(float)\n",
    "# '5.3'(str) => 5(int), 5.3(float)\n",
    "\n",
    "b= '5'\n",
    "print(b,int(b),float(b))\n",
    "c='5.3'\n",
    "print(c,int(float(c)),float(c)) # functions run from inside to outside\n",
    "e='5'\n",
    "f=5.3\n",
    "print(int(e),int(f)) # focus on kisme convert kran hai\n",
    "e='5'\n",
    "f=5\n",
    "print(float(e),float(f))\n",
    "\n",
    "# int(),float(),str(),list(),tuple(),set(),dic(),bool(),complex() we will use these function only to convert between data types\n",
    "\n",
    "a,b,c=0,0.0,'0'\n",
    "print(bool(a),bool(b),bool(int(c)))\n",
    "\n",
    "# type()-This function is used to check the type of data\n",
    "\n",
    "a=(\"Q\",\"W\",\"E\",\"R\",\"T\",\"Y\",\"T\")\n",
    "print(list(set(a)))\n",
    "dic={\"he\":1000,\"she\":800,\"thirdgender\":300}\n",
    "print(dic)\n",
    "print(list(dic.keys()))\n",
    "print(list(dic.values()))\n",
    "print(list(dic.items()))"
   ]
  },
  {
   "cell_type": "code",
   "execution_count": 47,
   "id": "57b0a2f9-fa1a-4d27-914c-cc43740dba7b",
   "metadata": {},
   "outputs": [
    {
     "name": "stdout",
     "output_type": "stream",
     "text": [
      "My name is Khan\n",
      "It's my pleasure\n",
      "This is a gem. And it's name is \"Farooq\"\n"
     ]
    }
   ],
   "source": [
    "#fun with string ' ',\" \",''' '''\n",
    "statement='My name is Khan'\n",
    "print(statement)\n",
    "statement2=\"It's my pleasure\"\n",
    "print(statement2)\n",
    "statement3='''This is a gem. And it's name is \"Farooq\"'''\n",
    "print(statement3)\n"
   ]
  },
  {
   "cell_type": "code",
   "execution_count": 60,
   "id": "24ec2745-662c-4ef0-8f60-182bba75b7fd",
   "metadata": {},
   "outputs": [
    {
     "name": "stdout",
     "output_type": "stream",
     "text": [
      "{'hindi': 'handball', 'english': 'volleyball', 'math': 'football', 'art': 'basketball'}\n",
      "{'he': 1000, 'she': 800, 'thirdgender': 300}\n",
      "['he', 'she', 'thirdgender']\n",
      "[1000, 800, 300]\n",
      "[('he', 1000), ('she', 800), ('thirdgender', 300)]\n",
      "True\n",
      "True\n",
      "True\n"
     ]
    }
   ],
   "source": [
    "# we can convert two list into a dictionary using 'zip' function inside 'dict' function\n",
    "\n",
    "subjects=[\"hindi\",\"english\",\"math\",\"art\"]\n",
    "sports=[\"handball\",\"volleyball\",\"football\",\"basketball\"]\n",
    "print(dict(zip(subjects,sports)))\n",
    "\n",
    "# we can convert a dictionary into two separate keys and values list\n",
    "\n",
    "dic={\"he\":1000,\"she\":800,\"thirdgender\":300}\n",
    "print(dic)\n",
    "print(list(dic.keys()))\n",
    "print(list(dic.values()))\n",
    "print(list(dic.items()))\n",
    "      \n",
    "print(1000 in dic.values())\n",
    "      \n",
    "print(\"he\" in dic)\n",
    "print(\"he\" in dic.keys())\n"
   ]
  },
  {
   "cell_type": "code",
   "execution_count": null,
   "id": "a3546c08-e25c-4bdc-acae-6cddeab6e808",
   "metadata": {},
   "outputs": [],
   "source": []
  },
  {
   "cell_type": "code",
   "execution_count": 7,
   "id": "e4d6dd7b-6ecf-4bb3-be1e-dd00b35c4b58",
   "metadata": {},
   "outputs": [
    {
     "name": "stdout",
     "output_type": "stream",
     "text": [
      "7\n",
      "hello\n",
      "namaste\n",
      "140703342519208\n",
      "140703342519272\n",
      "140703342519272\n",
      "140703342519208\n",
      "2280399059376\n",
      "2280309174768\n",
      "2280399059376\n",
      "2280309174768\n",
      "2280403190464\n",
      "['Q', 'W', 'E', 'R', 'T', 'Y']\n",
      "2280403190464\n"
     ]
    }
   ],
   "source": [
    "a=5\n",
    "a=7\n",
    "print(a)\n",
    "a=\"hello\"\n",
    "print(a)\n",
    "a=\"namaste\"\n",
    "print(a)\n",
    "\n",
    "# mutable are those data types which can be change/mutate by any method at its address: data change but address doesn't change by any method\n",
    "# immutable are those data types which cannot be change\n",
    "\n",
    "# MUTABLES => set, dict, list\n",
    "# IMMUTABLES => int, float, bool, str, tuple, complex\n",
    "\n",
    "a=5\n",
    "print(id(a))\n",
    "a=7\n",
    "print(id(a))\n",
    "a=7\n",
    "print(id(a))\n",
    "a=5\n",
    "print(id(a))\n",
    "a=\"hello\"\n",
    "print(id(a))\n",
    "a=\"hi\"\n",
    "print(id(a))\n",
    "a=\"hello\"\n",
    "print(id(a))\n",
    "a=\"hi\"\n",
    "print(id(a))\n",
    "a=[\"Q\",\"W\",\"E\",\"R\",\"T\",\"Y\",\"T\"]\n",
    "print(id(a))\n",
    "a.pop(-1)\n",
    "print(a)\n",
    "\n",
    "# a=[\"Q\",\"W\",\"E\",\"R\",\"T\",\"Y\"]\n",
    "print(id(a))\n",
    "\n",
    "\n",
    "\n"
   ]
  },
  {
   "cell_type": "code",
   "execution_count": 14,
   "id": "ebaad439-3c5d-45ab-bcd9-14c495cdbaf8",
   "metadata": {},
   "outputs": [
    {
     "name": "stdout",
     "output_type": "stream",
     "text": [
      "5/3= 1.6666666666666667\n",
      "5//3= 1\n",
      "5%3= 2\n",
      "5+3= 8\n",
      "5-3= 2\n",
      "5*3= 15\n",
      "5**3= 125\n",
      "floor of 1.7= 1\n",
      "ceil of 1.7= 2\n",
      "abs of -3= 3\n"
     ]
    }
   ],
   "source": [
    "# operators- +,-,*,/(normal division),//(floor division),%(remainder),floor(), ceil(), abs(), INF_FLOAT(max possible value)\n",
    "from math import * \n",
    "print(\"5/3=\",5/3)\n",
    "print(\"5//3=\",5//3)\n",
    "print(\"5%3=\",5%3)\n",
    "print(\"5+3=\",5+3)\n",
    "print(\"5-3=\",5-3)\n",
    "print(\"5*3=\",5*3)\n",
    "print(\"5**3=\",5**3)\n",
    "print(\"floor of 1.7=\", floor(1.7))\n",
    "print(\"ceil of 1.7=\",ceil(5/3))\n",
    "print(\"abs of -3=\",abs(-3))\n"
   ]
  },
  {
   "cell_type": "code",
   "execution_count": 22,
   "id": "21f22d0b-f89f-4034-99a8-67646e4a60ae",
   "metadata": {},
   "outputs": [
    {
     "name": "stdout",
     "output_type": "stream",
     "text": [
      "140703720334248\n",
      "140703720334312\n",
      "140703720334248\n",
      "140703720334312\n",
      "140703720334248 140703720334248 140703720334312\n"
     ]
    }
   ],
   "source": [
    "#if value is same, adress will be the same regardless of variable name\n",
    "\n",
    "a=5\n",
    "print(id(a))\n",
    "a=7\n",
    "print(id(a))\n",
    "c=5\n",
    "print(id(c))\n",
    "a=7\n",
    "print(id(a))\n",
    "a,b,c=5,5,5\n",
    "c=7\n",
    "print(id(a),id(b),id(c))\n"
   ]
  },
  {
   "cell_type": "code",
   "execution_count": 9,
   "id": "6b7b4465-aa3a-4a18-8e3b-a7688966043e",
   "metadata": {},
   "outputs": [
    {
     "name": "stdout",
     "output_type": "stream",
     "text": [
      "140703342519208\n",
      "140703342519272\n",
      "2280403592512\n",
      "2280403601024\n",
      "---\n",
      "[1, 2, 3]\n",
      "2280403581952\n",
      "[1, 2, 3, 4]\n",
      "2280403581952\n"
     ]
    }
   ],
   "source": [
    "# list,set,dictionary are mutables\n",
    "# '=' changes the address\n",
    "\n",
    "a=5\n",
    "print(id(a))\n",
    "a=7\n",
    "print(id(a))\n",
    "lst=[1,2,3]\n",
    "print(id(lst))\n",
    "lst=[1,2,3,4]\n",
    "print(id(lst))\n",
    "\n",
    "# '=' changes the address no matter object is mutable or immutable\n",
    "print('---')\n",
    "a=[1,2,3]\n",
    "print(a)\n",
    "print(id(a))\n",
    "a.append(4)\n",
    "print(a)\n",
    "print(id(a))"
   ]
  },
  {
   "cell_type": "code",
   "execution_count": 50,
   "id": "9988f865-ae98-4d7c-81ac-c0dd653e74e5",
   "metadata": {},
   "outputs": [
    {
     "name": "stdout",
     "output_type": "stream",
     "text": [
      "20 -10 20\n",
      "10\n",
      "13\n",
      "3 4\n",
      "4 3\n",
      "5 7\n",
      "7 5\n",
      "10 12\n",
      "12 10\n"
     ]
    }
   ],
   "source": [
    "#ASSIGNMENT(=)\n",
    "# '=' always change address no matter its mutable or immutable, only when assigned value is different\n",
    "a,b,c=1,3,5\n",
    "a=b+1 #a=4,b=3,c=5\n",
    "b=c+1 #a=4,b=6,c=5\n",
    "c=a+b #a=4,b=6,c=10\n",
    "a=a+b+c #a=20,b=6,c=10\n",
    "b=c-a #a=20,b=-10,c=10\n",
    "c=a-b-c #a=20,b=-10,c=20\n",
    "print(a,b,c)\n",
    "a=abs(b)\n",
    "print(a)\n",
    "a=7+((4*3)//2)\n",
    "print(a)\n",
    "a,b=3,4\n",
    "print(a,b)\n",
    "c=a\n",
    "a=b\n",
    "b=c\n",
    "print(a,b)\n",
    "# a=5\n",
    "# c=a\n",
    "# print(a,c)\n",
    "a,b=5,7\n",
    "print(a,b)\n",
    "a=a+b #a=12,b=7\n",
    "b=a-b #a=12,b=5\n",
    "a=a-b #a=7,b=5\n",
    "print(a,b)\n",
    "a,b=10,12\n",
    "print(a,b)\n",
    "# a,b=b,a\n",
    "# print(a,b)\n",
    "print(b,a)\n"
   ]
  },
  {
   "cell_type": "code",
   "execution_count": 64,
   "id": "4babc650-f632-47d4-aafd-a1cd7dc9a8b3",
   "metadata": {},
   "outputs": [
    {
     "name": "stdout",
     "output_type": "stream",
     "text": [
      "[1, 2, 3] [1, 2, 3]\n",
      "2410315037248 2410315037248\n",
      "5 7\n",
      "140703720334248 140703720334312\n",
      "[3, 4, 5] [1, 2, 3]\n",
      "2410315037376 2410315033984\n",
      "[1, 2, 3, 4, 5] [1, 2, 3, 4, 5]\n",
      "2410315037248 2410315037248\n",
      "---\n",
      "[1, 2, 3] [3, 4, 5] [1, 2, 3]\n",
      "2410315026752 2410315037376 2410315026752\n",
      "---\n"
     ]
    }
   ],
   "source": [
    "lst=[1,2,3]\n",
    "bst=lst\n",
    "print(lst,bst)\n",
    "print(id(lst),id(bst))\n",
    "a=5\n",
    "b=a\n",
    "b=7\n",
    "print(a,b)\n",
    "print(id(a),id(b))\n",
    "lst=[1,2,3]\n",
    "bst=lst\n",
    "lst=[3,4,5]\n",
    "print(lst,bst)\n",
    "print(id(lst),id(bst))\n",
    "\n",
    "# jabtak '=' apply nahi hoga tabtak address change nahi hoga\n",
    "# jab '='a apply hoga to address ta bhi change hoga jab value different ho\n",
    "lst=[1,2,3] #lst=[1,2,3]\n",
    "bst=lst     #bst,lst=[1,2,3]\n",
    "lst.append(4) #lst,bst=[1,2,3,4] \n",
    "bst.append(5) #bst,lst=[1,2,3,4,5]\n",
    "print(lst,bst)\n",
    "print(id(lst),id(bst))\n",
    "print('---')\n",
    "lst=[1,2,3] #lst=[1,2,3]\n",
    "bst=lst     #lst,bst=[1,2,3]\n",
    "cst=bst     #lst,bst,cst=[1,2,3]\n",
    "bst=[3,4,5] #lst,cst=[1,2,3],bst=[3,4,5]\n",
    "print(lst,bst,cst)\n",
    "print(id(lst),id(bst),id(cst))\n",
    "print('---')\n"
   ]
  },
  {
   "cell_type": "code",
   "execution_count": 72,
   "id": "bee347a1-b17d-431a-b93d-701138680b79",
   "metadata": {},
   "outputs": [
    {
     "name": "stdout",
     "output_type": "stream",
     "text": [
      "18\n",
      "30\n",
      "1\n",
      "3\n",
      "5\n",
      "7\n",
      "9\n",
      "11\n",
      "13\n",
      "15\n",
      "17\n",
      "19\n",
      "21\n",
      "23\n",
      "25\n",
      "27\n",
      "29\n",
      "31\n",
      "33\n",
      "35\n",
      "37\n",
      "38\n",
      "39\n",
      "41\n",
      "43\n",
      "---\n",
      "43\n",
      "43\n",
      "a= 43\n"
     ]
    }
   ],
   "source": [
    "a,b,c=5,6,7\n",
    "d=a+b+c\n",
    "print(d)\n",
    "lst=[2,4,6,8,10]\n",
    "f=lst[0]+lst[1]+lst[2]+lst[3]+lst[4]\n",
    "print(f)\n",
    "lst=[1,3,5,7,9,11,13,15,17,19,21,23,25,27,29,31,33,35,37,38,39,41,43]\n",
    "a=0\n",
    "for t in lst:\n",
    "    print(t)\n",
    "# above syntax mean \n",
    "''' \n",
    "t=1(first time)\n",
    "t=3(second time)\n",
    "t=5(third time)\n",
    "t=7(fourth time)\n",
    ".\n",
    ".\n",
    ".\n",
    "t=43(23rd time)\n",
    "'''\n",
    "print('---')\n",
    "print(t)\n",
    "# a=0\n",
    "for t in lst:\n",
    "    a=t\n",
    "print(t)    \n",
    "print(\"a=\",a)"
   ]
  },
  {
   "cell_type": "code",
   "execution_count": 1,
   "id": "73f68487-b15b-4c6c-a488-e69fc728a9b2",
   "metadata": {},
   "outputs": [
    {
     "name": "stdout",
     "output_type": "stream",
     "text": [
      "75\n"
     ]
    }
   ],
   "source": [
    "lst=[3,4,5,6,7,8,9,10,11,12]\n",
    "a=0\n",
    "# t=3\n",
    "# a=a+t\n",
    "# print(a)\n",
    "# t=4\n",
    "# a=a+t\n",
    "# t=5\n",
    "# a=a+t\n",
    "# t=6\n",
    "# a=a+t\n",
    "# t=7\n",
    "# a=a+t\n",
    "# t=8\n",
    "# a=a+t\n",
    "# t=9\n",
    "# a=a+t\n",
    "# t=10\n",
    "# a=a+t\n",
    "# t=11\n",
    "# a=a+t\n",
    "# t=12\n",
    "# a=a+t\n",
    "# print(a)\n",
    "\n",
    "for t in lst:\n",
    "    a=a+t\n",
    "print(a)"
   ]
  },
  {
   "cell_type": "code",
   "execution_count": 3,
   "id": "2cde47b3-a504-40e3-b5c2-c02be475a382",
   "metadata": {},
   "outputs": [
    {
     "name": "stdout",
     "output_type": "stream",
     "text": [
      "28\n"
     ]
    }
   ],
   "source": [
    "lst=[1,2,3,4,5,6,7]\n",
    "sm=0\n",
    "for t in lst:\n",
    "    sm=sm+t\n",
    "print(sm)\n",
    "# from math import *\n",
    "# import math \n",
    "# import math as m\n",
    "# import numpy as np\n",
    "# import pandas as pd\n",
    "# import matplotlib.pyplot as plt\n",
    "\n"
   ]
  },
  {
   "cell_type": "code",
   "execution_count": null,
   "id": "e33449c0-1ac9-4c44-856c-174e53f68155",
   "metadata": {},
   "outputs": [
    {
     "name": "stdout",
     "output_type": "stream",
     "text": [
      "[0, 10, 20, 30, 40, 50, 60, 70, 80, 90, 100, 110, 120, 130, 140, 150, 160, 170, 180, 190, 200, 210, 220, 230, 240, 250, 260, 270, 280, 290, 300, 310, 320, 330, 340, 350, 360, 370, 380, 390, 400, 410, 420, 430, 440, 450, 460, 470, 480, 490, 500, 510, 520, 530, 540, 550, 560, 570, 580, 590, 600, 610, 620, 630, 640, 650, 660, 670, 680, 690, 700, 710, 720, 730, 740, 750, 760, 770, 780, 790, 800, 810, 820, 830, 840, 850, 860, 870, 880, 890, 900, 910, 920, 930, 940, 950, 960, 970, 980, 990, 1000]\n"
     ]
    }
   ],
   "source": [
    "# lst=[1,2,...,n]\n",
    "# range(start,end,jump) where start, end, and jump msut be integer; start by default value is 0; jump bydefault value is 1;\n",
    "print(list(range(0,1001,10)))\n",
    "# lst=list(range(1,51,1))\n",
    "# print(lst)\n",
    "# sm=0\n",
    "# for t in lst:\n",
    "#     sm=sm+t\n",
    "# print(sm)\n",
    "\n",
    "# ques? Find the sum of numbers from 1 to 50.\n",
    "# ran=range(1,51)\n",
    "# print(ran)\n",
    "# sm=0\n",
    "# for t in range(1,51):\n",
    "#     sm=sm+t\n",
    "# print(sm)\n",
    "\n",
    "#ques? print hello 10 times\n",
    "# n=input()\n",
    "# for _ in range(n):\n",
    "#     print(\"hello\")\n",
    "\n",
    "# a=input()\n",
    "# print(\"type of a=\",type(a))\n",
    "# print(a)\n"
   ]
  },
  {
   "cell_type": "code",
   "execution_count": 94,
   "id": "49806b42-bd52-48d4-91d3-f8f15aa4349c",
   "metadata": {},
   "outputs": [
    {
     "name": "stdin",
     "output_type": "stream",
     "text": [
      " 1\n"
     ]
    },
    {
     "name": "stdout",
     "output_type": "stream",
     "text": [
      "hello\n"
     ]
    }
   ],
   "source": [
    "#ques? TAKE A INPUT FROM USER IN A VARIABLE NAME n AND PRINT hello n TIMES\n",
    "# n=input(5)\n",
    "n=int(input())\n",
    "# print(\"n=\",n)\n",
    "# print(\"type of n\",type(n))\n",
    "for _ in range(n):\n",
    "    print(\"hello\")\n"
   ]
  },
  {
   "cell_type": "code",
   "execution_count": 1,
   "id": "0ee8a8e5-9c6b-4e19-9b0d-5d0ba93e6725",
   "metadata": {},
   "outputs": [],
   "source": [
    "lst=[5,6,7]\n",
    "# sm=0\n",
    "# for t in lst:\n",
    "#     sm=sm+t\n",
    "# print(sm)\n",
    "\n",
    "bst=[7,8]\n",
    "# sm=0\n",
    "# for t in bst:\n",
    "#     sm=sm+t\n",
    "# print(sm) \n",
    "\n",
    "cst=[3,4,5,7,9]\n",
    "# sm=0\n",
    "# for t in cst:\n",
    "#     sm=sm+t\n",
    "# print(sm)\n",
    "\n",
    "dst=[9,10,11]\n",
    "# sm=0\n",
    "# for t in dst:\n",
    "#     sm=sm+t\n",
    "# print(sm)\n",
    "\n",
    "# defining a function\n"
   ]
  },
  {
   "cell_type": "code",
   "execution_count": 51,
   "id": "e9d59c83-155e-40ea-943d-250835eb48d9",
   "metadata": {},
   "outputs": [
    {
     "name": "stdout",
     "output_type": "stream",
     "text": [
      "4\n"
     ]
    }
   ],
   "source": [
    "# print(\"hello\")\n",
    "# a=5\n",
    "# print(a)\n",
    "# print(type(a))\n",
    "# print(id(a))\n",
    "# lst=[1,5,7]\n",
    "# sm=0\n",
    "# for t in lst:\n",
    "#     sm=sm+t\n",
    "# print(sm)\n",
    "# n=int(input('enter a no.'))\n",
    "# for _ in range(n):\n",
    "#     print(sm)\n",
    "\n",
    "# def soumyaSum():\n",
    "#     return 4\n",
    "#     return False \n",
    "# a=int(5.0)\n",
    "# b=soumyaSum()\n",
    "# c=a\n",
    "# print(a)\n",
    "# print(b)\n",
    "# print(c)\n",
    "# a=soumyaSum()\n",
    "# print(a)\n",
    "# a=False\n",
    "\n",
    "\n"
   ]
  },
  {
   "cell_type": "code",
   "execution_count": 39,
   "id": "0a48e47a-f0da-4fd3-a2e6-2575131962a8",
   "metadata": {},
   "outputs": [
    {
     "data": {
      "text/plain": [
       "' \\nSTEP1: to create a function\\n       def function_name():\\n           function content\\n        \\nSTEP2: to use a function\\n    function_name()\\n'"
      ]
     },
     "execution_count": 39,
     "metadata": {},
     "output_type": "execute_result"
    }
   ],
   "source": [
    "''' \n",
    "STEP1: to create a function\n",
    "       def function_name():\n",
    "           function content\n",
    "        \n",
    "STEP2: to use a function\n",
    "    function_name()\n",
    "'''\n"
   ]
  },
  {
   "cell_type": "code",
   "execution_count": 16,
   "id": "c767d7dc-5f3f-4241-a214-e274d57d5a75",
   "metadata": {},
   "outputs": [
    {
     "name": "stdout",
     "output_type": "stream",
     "text": [
      "8 9 1 2 3 4\n",
      "8\n",
      "9\n",
      "1\n",
      "2\n",
      "3\n",
      "4\n"
     ]
    }
   ],
   "source": [
    "lst=[4,5,6,7,8,9,1,2,3,4,5,2,23,43,55,6,4,7,888,43,2,233,4]\n",
    "# print(lst)\n",
    "# print(lst[0])\n",
    "# print(lst[1])\n",
    "# print(lst[2])\n",
    "# print(lst[6])\n",
    "# for t in range(lst[3],lst[9]):\n",
    "# ques? print elelments of list from 5th to 10th\n",
    "print(lst[4],lst[5],lst[6],lst[7],lst[8],lst[9])\n",
    "\n",
    "for t in range(4,10):\n",
    "    print(lst[t])\n",
    "    \n",
    "    "
   ]
  },
  {
   "cell_type": "code",
   "execution_count": 69,
   "id": "dd3df209-7ef1-4cfc-8d28-4e51f62ab71c",
   "metadata": {},
   "outputs": [
    {
     "name": "stdout",
     "output_type": "stream",
     "text": [
      "range(3, 5)\n",
      "[0, 10, 20, 30, 40, 50, 60, 70, 80, 90, 100, 110, 120, 130, 140, 150, 160, 170, 180, 190, 200, 210, 220, 230, 240, 250, 260, 270, 280, 290, 300, 310, 320, 330, 340, 350, 360, 370, 380, 390, 400, 410, 420, 430, 440, 450, 460, 470, 480, 490, 500, 510, 520, 530, 540, 550, 560, 570, 580, 590, 600, 610, 620, 630, 640, 650, 660, 670, 680, 690, 700, 710, 720, 730, 740, 750, 760, 770, 780, 790, 800, 810, 820, 830, 840, 850, 860, 870, 880, 890, 900, 910, 920, 930, 940, 950, 960, 970, 980, 990, 1000]\n"
     ]
    }
   ],
   "source": [
    "# range\n",
    "print(range(3,5))\n",
    "print(list(range(0,1001,10)))\n",
    "# print(1,1000)"
   ]
  },
  {
   "cell_type": "code",
   "execution_count": 6,
   "id": "008eff64-9256-48ea-84b3-2b050892ccdd",
   "metadata": {},
   "outputs": [
    {
     "name": "stdout",
     "output_type": "stream",
     "text": [
      "140704035693480\n",
      "140704035693576\n",
      "2254554344896\n"
     ]
    }
   ],
   "source": [
    "a=5\n",
    "print(id(a))\n",
    "a=8\n",
    "print(id(a))\n",
    "# memory have address fixed i.e. immutable\n",
    "# we have certain special function assign like append(),pop() e.t.c. coz of which without using'=' we can change,append the value without changing address\n",
    "lst=[1,2,3]\n",
    "print(id(lst))\n",
    "\n"
   ]
  },
  {
   "cell_type": "code",
   "execution_count": 17,
   "id": "b5764efb-3e4c-4a2e-ad19-9b5c4dd09039",
   "metadata": {},
   "outputs": [
    {
     "name": "stdout",
     "output_type": "stream",
     "text": [
      "2254554001952\n",
      "2254554001952\n"
     ]
    }
   ],
   "source": [
    "#set have no specific order, thats why we use add() instead of append()\n",
    "st={2,3,6,18}\n",
    "print(id(st))\n",
    "st.add(108)\n",
    "print(id(st))"
   ]
  },
  {
   "cell_type": "code",
   "execution_count": 24,
   "id": "00977cad-e672-4238-8bd9-d25c03c5bdc1",
   "metadata": {},
   "outputs": [
    {
     "name": "stdout",
     "output_type": "stream",
     "text": [
      "love to do coding\n",
      "my name is khan.\n",
      "I am not a terrorist\n"
     ]
    }
   ],
   "source": [
    "# \\n(backslash n) used to break the line\n",
    "s=\"love to do coding\"\n",
    "print(s)\n",
    "t=\"my name is khan.\\nI am not a terrorist\"\n",
    "print(t)"
   ]
  },
  {
   "cell_type": "code",
   "execution_count": 32,
   "id": "d91598f7-c246-4950-96f6-51328d6fd493",
   "metadata": {},
   "outputs": [
    {
     "name": "stdout",
     "output_type": "stream",
     "text": [
      "891234"
     ]
    }
   ],
   "source": [
    "# \\n bydefault add after every print()\n",
    "# end is a parameter\n",
    "lst=[4,5,6,7,8,9,1,2,3,4,5,2,23,43,55,6,4,7,888,43,2,233,4]\n",
    "for t in range(4,10):\n",
    "    print(lst[t],end='')"
   ]
  },
  {
   "cell_type": "code",
   "execution_count": 66,
   "id": "f5548f57-afb1-48a5-8569-7c7dafe9b5de",
   "metadata": {},
   "outputs": [
    {
     "name": "stdout",
     "output_type": "stream",
     "text": [
      "y o .\n",
      "you are myself.\n",
      "yuaem etn\n",
      "hello\n",
      "[1334, 13, 23, 65, 4, 923, 9, 8, 7, 6, 5, 4, 3, 2, 1]\n",
      "(6, 55, 4, 3, 2)\n"
     ]
    }
   ],
   "source": [
    "lst=[1,2,3,4,5,6,7,8,9,923,4,65,23,13,1334]\n",
    "st=\"you are my destiny. I am praise of being myself.\"\n",
    "# [START:END:JUMP]\n",
    "# START---bydefault 0\n",
    "# end---bydefault take last index\n",
    "#jump ----1\n",
    "print(st[0],st[1],st[-1])\n",
    "print(st[0:3:1],st[4:7:1],st[-7::1])\n",
    "print(st[0:18:2])\n",
    "#REVERSING OF STRING\n",
    "st= \"olleh\"\n",
    "print(st[-1::-1])\n",
    "#REVERSING OF AN ARRAY/LIST\n",
    "print(lst[-1::-1])\n",
    "\n",
    "tpl=(2,3,4,55,6)\n",
    "k=tpl[-1::-1]\n",
    "# print(tpl[-1::-1])\n",
    "print(k)"
   ]
  },
  {
   "cell_type": "code",
   "execution_count": 88,
   "id": "14d99c52-9b7d-45fb-80c7-1f89b0135682",
   "metadata": {},
   "outputs": [
    {
     "name": "stdout",
     "output_type": "stream",
     "text": [
      "['you', 'me', 'he', 'they']\n",
      "2\n",
      "6\n",
      "0\n",
      "{'potato': 6, 'onion': 4, 'watermelon': 2, 'water': 10}\n"
     ]
    }
   ],
   "source": [
    "# in dicionary we can do indexing instead of slicing\n",
    "dic={\"you\":3,\"me\":2,\"he\":2,\"they\":4}\n",
    "lst=list(dic.keys())\n",
    "print(lst)\n",
    "print(dic[\"he\"])\n",
    "dic={\"tomato\":2,\"potato\":5,\"onion\":4,\"watermelon\":2}\n",
    "dic[\"potato\"]=6\n",
    "print(dic[\"potato\"])\n",
    "dic[\"water\"]=10\n",
    "del dic[\"tomato\"]\n",
    "# print(dic[\"grapes\"])\n",
    "l=dic.get(\"grape\",0)  # bydefault none added\n",
    "print(l)\n",
    "print(dic)\n"
   ]
  },
  {
   "cell_type": "code",
   "execution_count": 102,
   "id": "2b364d29-d28a-4022-abda-e39e43fe19e6",
   "metadata": {},
   "outputs": [
    {
     "name": "stdout",
     "output_type": "stream",
     "text": [
      "2254560968832\n",
      "2254560968832\n",
      "vinshita\n",
      "vanshita\n"
     ]
    }
   ],
   "source": [
    "lst=[\"is\",\"am\",\"are\"]\n",
    "print(id(lst))\n",
    "lst[1]=\"are\"\n",
    "print(id(lst))  #lst ke andr ghuskr change kr rahe hai isliye adres me koi badlav nahi hai\n",
    "# print(lst[0])\n",
    "\n",
    "st=\"vinshita\"\n",
    "# st[1]='a'       #string ke andr change nhi kr sakte hai, \n",
    "print(st)\n",
    "\n",
    "#CONCATENATION OF STRING\n",
    "st=st[0]+\"a\"+st[2:]\n",
    "print(st)\n"
   ]
  },
  {
   "cell_type": "code",
   "execution_count": 115,
   "id": "47d81832-a555-4845-8e17-0202a59c67df",
   "metadata": {},
   "outputs": [
    {
     "name": "stdout",
     "output_type": "stream",
     "text": [
      "12\n",
      "hellohi\n",
      "[1, 2, 3, 4, 5, 6]\n",
      "5\n",
      "4\n",
      "3\n",
      "2\n",
      "[1, 2, 2, 3, 4, 5, 66, 78, 36, 12, 55, 88, 96, 77, 96, 11, 31, 55, 27, 13, 968, 487, 4521, 63, 6, 8, 5, 5, 2, 3, 6, 541, 5, 4, 5, 4, 1, 2, 52, 25]\n",
      "[3, 4, 5, 66, 78, 36, 12]\n",
      "3\n",
      "4\n",
      "5\n",
      "66\n",
      "78\n",
      "36\n",
      "12\n"
     ]
    }
   ],
   "source": [
    "print(5+7)\n",
    "print('hello'+'hi')\n",
    "print([1,2,3]+[4,5,6])\n",
    "for i in range(5,1,-1):   #5,4,3,2\n",
    "    print(i)\n",
    "lst=[1,2,2,3,4,5,66,78,36,12,55,88,96,77,96,11,31,55,27,13,968,487,4521,63,6,8,5,5,2,3,6,541,5,4,5,4,1,2,52,25]\n",
    "print(lst)\n",
    "print(lst[3:10])\n",
    "for t in lst[3:10]:\n",
    "    print(t)\n",
    "# for t in range(3,10):\n",
    "#     print(lst[t],end=\" \")\n",
    "    \n"
   ]
  },
  {
   "cell_type": "code",
   "execution_count": 131,
   "id": "fe2eb6bb-d35d-42bc-a949-18284984734f",
   "metadata": {},
   "outputs": [
    {
     "name": "stdout",
     "output_type": "stream",
     "text": [
      "82\n",
      "6\n",
      "15\n"
     ]
    }
   ],
   "source": [
    "def soumya_function(a):\n",
    "    sm=0\n",
    "    for t in a:\n",
    "        sm=sm+t\n",
    "    return sm\n",
    "    \n",
    "    \n",
    "lst=[1,2,3,4,5,67]\n",
    "lst1=[1,2,3]\n",
    "lst2=[4,5,6]\n",
    "ans=soumya_function(lst)\n",
    "ans1=soumya_function(lst1)\n",
    "ans2=soumya_function(lst2)\n",
    "print(ans)\n",
    "print(ans1)\n",
    "print(ans2)"
   ]
  },
  {
   "cell_type": "code",
   "execution_count": 149,
   "id": "6ad083c3-1a75-4420-b6ea-d13a82f23b78",
   "metadata": {},
   "outputs": [
    {
     "name": "stdout",
     "output_type": "stream",
     "text": [
      "1\n",
      "24\n",
      "True\n"
     ]
    }
   ],
   "source": [
    "# def soumya_abs(x):\n",
    "#     if x==0:\n",
    "#         return 0\n",
    "#     elif x<0:\n",
    "#         return -x\n",
    "#     else:\n",
    "#         return x\n",
    "\n",
    "# a=-3\n",
    "# b=soumya_abs(a)\n",
    "# print(b)\n",
    "    \n",
    "def s_abs(a):\n",
    "    if a<0: return -a\n",
    "    return a\n",
    "\n",
    "print(s_abs(-1))\n",
    "        \n",
    "def s_fact(x):\n",
    "    ans=1\n",
    "    for t in range(1,x+1):\n",
    "    \n",
    "    # for t in range(x,0,-1):\n",
    "        ans=ans*t\n",
    "        \n",
    "    # while x>0:\n",
    "    #     ans=ans*x\n",
    "    #     x=x-1\n",
    "    return ans\n",
    "a=4\n",
    "ans=s_fact(a)\n",
    "print(ans)\n",
    "\n",
    "def s_pal(x):\n",
    "    ans=0\n",
    "    temp=x\n",
    "    while x>0:\n",
    "        rem=x%10\n",
    "        ans=10*ans+rem\n",
    "        x=x//10\n",
    "\n",
    "        #x=27,ans=5,rem=5\n",
    "        #x=2,ans=57,rem=7\n",
    "        #x=0,ans=572,rem=2\n",
    "    if temp==ans:\n",
    "        return True\n",
    "    return False\n",
    "    #false or true\n",
    "    #275%10=5\n",
    "    #27%10=7\n",
    "    #2%10=2\n",
    "    #0%10=0\n",
    "    #275//10=27\n",
    "    #27//10=2\n",
    "    #2//10=0\n",
    "    # x=275\n",
    "    # x=2*100+7*10+5*1\n",
    "    # ans=0           #ans=0\n",
    "    # ans=10*ans+5    #ans=10*0+5=5\n",
    "    # ans=10*ans+7    #ans=10*5+7=57\n",
    "    # ans=10*ans+2    #ans=10*57+2=572\n",
    "    \n",
    "\n",
    "\n",
    "\n",
    "\n",
    "    \n",
    "    # y=572\n",
    "\n",
    "    \n",
    "    # if x==y:\n",
    "    #     return True\n",
    "    # return False\n",
    "    \n",
    "a=545\n",
    "ans=s_pal(a)\n",
    "print(ans)\n",
    "    "
   ]
  },
  {
   "cell_type": "code",
   "execution_count": 151,
   "id": "3cb7c655-0782-419d-8e0f-2c7f22257561",
   "metadata": {},
   "outputs": [
    {
     "name": "stdout",
     "output_type": "stream",
     "text": [
      "palandome\n"
     ]
    }
   ],
   "source": [
    "s='bob'\n",
    "if s==s[::-1]:\n",
    "    print('palandome')\n",
    "else:\n",
    "    print('not palandrome')"
   ]
  },
  {
   "cell_type": "code",
   "execution_count": 1,
   "id": "64b6b726-23f1-4a60-8c8e-3caab845bf36",
   "metadata": {},
   "outputs": [],
   "source": [
    "def s_pal(x):\n",
    "    # temp=str(x)\n",
    "    # temp=temp[::-1]\n",
    "    \n",
    "    # str(x)=int(temp)\n",
    "    # if temp==x:\n",
    "    #     return True\n",
    "    # return False\n",
    "    # if str(x)[::-1]==str(x):\n",
    "    if int(str(x)[::-1])==x:\n",
    "        return True\n",
    "    return False\n",
    "\n"
   ]
  },
  {
   "cell_type": "code",
   "execution_count": 16,
   "id": "730de2e0-d785-4448-adb1-97d040fe9449",
   "metadata": {},
   "outputs": [
    {
     "name": "stdout",
     "output_type": "stream",
     "text": [
      "5\n"
     ]
    },
    {
     "name": "stdin",
     "output_type": "stream",
     "text": [
      "enter a= 2\n",
      "enter b= 3\n"
     ]
    },
    {
     "name": "stdout",
     "output_type": "stream",
     "text": [
      "sum of a and b is= 5.0\n",
      "5\n",
      "5.0\n"
     ]
    }
   ],
   "source": [
    "#add two number\n",
    "\n",
    "a,b=2,3\n",
    "add=a+b\n",
    "print(add)\n",
    "\n",
    "# a,b=input(\"enter two variables\").split()\n",
    "a=input(\"enter a=\")\n",
    "b=input(\"enter b=\")\n",
    "sum=float(a)+float(b)   #******why float?\n",
    "print(\"sum of a and b is=\",sum)\n",
    "\n",
    "\n",
    "def s_add(a,b):\n",
    "    sm=a+b\n",
    "    return sm\n",
    "print(s_add(2,3))\n",
    "\n",
    "\n",
    "import operator as op\n",
    "sm=op.add(2,3)\n",
    "print(sum)"
   ]
  },
  {
   "cell_type": "code",
   "execution_count": 30,
   "id": "38d01952-d41b-4cd6-bd82-093e92413a16",
   "metadata": {},
   "outputs": [
    {
     "name": "stdout",
     "output_type": "stream",
     "text": [
      "3 is maximum\n",
      "3\n"
     ]
    },
    {
     "name": "stdin",
     "output_type": "stream",
     "text": [
      "enter two number 2 3\n"
     ]
    },
    {
     "name": "stdout",
     "output_type": "stream",
     "text": [
      "max is 3\n",
      "3\n"
     ]
    }
   ],
   "source": [
    "# MAXIMUM OF TWO NUMBERS IN PYTHON\n",
    "\n",
    "# print(op.gt(2,3))\n",
    "\n",
    "a,b=2,3\n",
    "if a>b:\n",
    "    print(a,\"is maximum\")\n",
    "else: print(b,\"is maximum\")\n",
    "\n",
    "print(max(2,3))\n",
    "\n",
    "a,b=input(\"enter two number\").split()\n",
    "print(\"max is\", max(a,b))\n",
    "\n",
    "print(a if a>b else b)\n"
   ]
  },
  {
   "cell_type": "code",
   "execution_count": 40,
   "id": "63e43d99-0aca-480e-8228-533a88856d93",
   "metadata": {},
   "outputs": [
    {
     "name": "stdin",
     "output_type": "stream",
     "text": [
      " 2,3,4,5\n"
     ]
    },
    {
     "name": "stdout",
     "output_type": "stream",
     "text": [
      "[2, 3, 4, 5]\n",
      "[2, 3, 4, 5]\n",
      "max= 5 min= 2\n"
     ]
    }
   ],
   "source": [
    "# maximum of n numbers\n",
    "# n=input(\"enter the value of n\")\n",
    "# x = list(map(int, input(\"Enter multiple values: \").split()))\n",
    "\n",
    "# lst=input().split(',')\n",
    "# print(lst)\n",
    "# print(list(map(int,lst)))\n",
    "\n",
    "lst=list(map(int,input().split(',')))  #map() is higher order function\n",
    "print(lst)\n",
    "lst=sorted(lst)\n",
    "print(lst)\n",
    "mx=lst[-1]\n",
    "mini=lst[0]\n",
    "print(\"max=\",mx,\"min=\",mini)\n",
    "\n"
   ]
  },
  {
   "cell_type": "code",
   "execution_count": 52,
   "id": "3bd23d11-db5c-4f31-9ac6-dd8cd6c31a5c",
   "metadata": {},
   "outputs": [
    {
     "name": "stdout",
     "output_type": "stream",
     "text": [
      "1\n",
      "90\n"
     ]
    }
   ],
   "source": [
    "def list_min(lst):\n",
    "    mini=float('inf')\n",
    "    for t in lst:\n",
    "        if t<mini:\n",
    "            mini=t\n",
    "    return mini\n",
    "\n",
    "lst=[1,2,3,5,6,78,9]\n",
    "print(list_min(lst))\n",
    "        \n",
    "def list_max(lst):\n",
    "    mx=-float('inf')\n",
    "    \n",
    "    for t in lst:\n",
    "        if t>mx:\n",
    "            mx=t\n",
    "    return mx\n",
    "\n",
    "lst=[4,5,6,88,9,4,2,90]\n",
    "print(list_max(lst))\n",
    "        \n",
    "    \n",
    "    "
   ]
  },
  {
   "cell_type": "code",
   "execution_count": 54,
   "id": "38f215a5-f639-4ecc-be9f-39cf57c14586",
   "metadata": {},
   "outputs": [
    {
     "name": "stdout",
     "output_type": "stream",
     "text": [
      "10\n"
     ]
    }
   ],
   "source": [
    "def list_sum(lst):\n",
    "    sm=0\n",
    "    for t in lst:\n",
    "        sm=sm+t\n",
    "    return sm\n",
    "lst=[1,2,3,4]\n",
    "print(list_sum(lst))"
   ]
  },
  {
   "cell_type": "code",
   "execution_count": 56,
   "id": "f0cfdd9a-f288-41eb-a16a-3eef49e9132b",
   "metadata": {},
   "outputs": [
    {
     "name": "stdout",
     "output_type": "stream",
     "text": [
      "9\n"
     ]
    }
   ],
   "source": [
    "def lst_count(lst):\n",
    "    count=0\n",
    "    for t in lst:\n",
    "        count=count+1\n",
    "    return count\n",
    "lst=[1,5,7,9,30,55,7,8,8]\n",
    "print(lst_count(lst))\n",
    "        "
   ]
  },
  {
   "cell_type": "code",
   "execution_count": 74,
   "id": "d3b6751d-8002-4849-aeff-23d238b854dc",
   "metadata": {},
   "outputs": [
    {
     "name": "stdout",
     "output_type": "stream",
     "text": [
      "23\n",
      "743\n",
      "7\n",
      "[23, 43, 53, 63, 63, 85, 743]\n"
     ]
    }
   ],
   "source": [
    "lst=[23,43,53,63,63,743,85]\n",
    "print(min(lst))\n",
    "print(max(lst))\n",
    "# print(\"sum\", sum(lst))   #****************\n",
    "\n",
    "print(len(lst))\n",
    "print(sorted(lst))\n"
   ]
  },
  {
   "cell_type": "code",
   "execution_count": 87,
   "id": "df81656a-0ff4-4cbd-b2ea-6335cfbf6024",
   "metadata": {},
   "outputs": [
    {
     "name": "stdout",
     "output_type": "stream",
     "text": [
      "[1, 2, 3, 5, 7, 8, 9]\n",
      "[1, 2, 3, 5, 7, 8, 9, 10]\n",
      "[1, 2, 5, 7, 8, 9, 10]\n",
      "[5, 4, 3, 2, 4, 5, 10, 11]\n"
     ]
    }
   ],
   "source": [
    "lst=[1,2,3,5,7,8,9]\n",
    "print(lst)\n",
    "lst.append(10)\n",
    "print(lst)\n",
    "lst.pop(2)\n",
    "print(lst)\n",
    "lst=[5,4,3,2,1,2,3,4,5]\n",
    "# lst=[5,4,3,2,4,5,10,11]\n",
    "lst.pop(4)\n",
    "lst.pop(3)\n",
    "lst.pop(4)\n",
    "lst.append(10)\n",
    "lst.append(11)\n",
    "# lst=set(lst)\n",
    "\n",
    "print(lst)\n"
   ]
  },
  {
   "cell_type": "code",
   "execution_count": 97,
   "id": "46681e22-bc50-45ef-b118-d283f50d8a14",
   "metadata": {},
   "outputs": [
    {
     "name": "stdout",
     "output_type": "stream",
     "text": [
      "[1, 2, 3, 4, 5, 6, 7, 8]\n",
      "[1, 2, 3, 4, 5, 6]\n",
      "[2, 3, 1, 2, 3, 4, 6, 7, 8]\n",
      "False\n"
     ]
    }
   ],
   "source": [
    "lst=[1,2,3,7,8]\n",
    "lst.insert(3,4)\n",
    "lst.insert(4,5)\n",
    "lst.insert(5,6)\n",
    "print(lst)\n",
    "\n",
    "lst=[1,2,3]\n",
    "bst=[4,5,6]\n",
    "print(lst+bst)\n",
    "\n",
    "lst=[2,3,4,6,7,8]\n",
    "bst=[1,2,3]\n",
    "# lst.insert(2,bst)\n",
    "print(lst[0:2]+bst+lst[2:])\n",
    "\n",
    "def s_unknown(lst,x):\n",
    "    found=False\n",
    "    for t in lst:\n",
    "        if t==x:\n",
    "            found=True\n",
    "            break\n",
    "    return found\n",
    "        \n",
    "\n",
    "        \n",
    "lst=[3,4,5]\n",
    "print(s_unknown(lst,9))"
   ]
  },
  {
   "cell_type": "code",
   "execution_count": 102,
   "id": "45772510-c5ec-4586-80ad-b3c18062a667",
   "metadata": {},
   "outputs": [
    {
     "name": "stdout",
     "output_type": "stream",
     "text": [
      "-1\n"
     ]
    }
   ],
   "source": [
    "def s_index(lst,x):\n",
    "    n=len(lst)\n",
    "    for t in range(n):\n",
    "        if lst[t]==x:\n",
    "            return t\n",
    "    return -1\n",
    "lst=[4,5,7,2,8,9,10,12,45]\n",
    "print(s_index(lst,67))"
   ]
  },
  {
   "cell_type": "code",
   "execution_count": 68,
   "id": "b81f96a3-3554-42b7-b533-4e7a3a99ac22",
   "metadata": {},
   "outputs": [
    {
     "name": "stdout",
     "output_type": "stream",
     "text": [
      "0 5\n",
      "1 7\n",
      "2 9\n",
      "3 10\n",
      "4 11\n",
      "5 12\n",
      "6 13\n",
      "7 14\n"
     ]
    }
   ],
   "source": [
    "lst=[5,7,9,10,11,12,13,14]\n",
    "n=len(lst)\n",
    "for i in range(n):\n",
    "    print(i,lst[i])"
   ]
  },
  {
   "cell_type": "code",
   "execution_count": 23,
   "id": "dd256d90-58ea-48fd-a2f7-ab4f20954bc4",
   "metadata": {},
   "outputs": [
    {
     "name": "stdout",
     "output_type": "stream",
     "text": [
      "[3, 2, 1]\n",
      "[3, 2, 1]\n",
      "[3, 2, 1]\n",
      "[3, 2, 1]\n"
     ]
    }
   ],
   "source": [
    "# Python program to interchange first and last elements in a list\n",
    "def list_swap(lst):\n",
    "    x=lst[0]\n",
    "    y=lst[-1]\n",
    "    lst[-1]=x\n",
    "    lst[0]=y\n",
    "    return lst\n",
    "lst=[1,2,3]\n",
    "print(list_swap(lst))\n",
    "\n",
    "lst=[1,2,3]\n",
    "lst[0]=lst[0]+lst[-1]\n",
    "lst[-1]=lst[0]-lst[-1]\n",
    "lst[0]=lst[0]-lst[-1]\n",
    "print(lst)\n",
    "lst=[1,2,3]\n",
    "lst[0],lst[-1]=lst[-1],lst[0]\n",
    "\n",
    "print(lst)\n",
    "lst=[1,2,3]\n",
    "c=lst[0]\n",
    "lst[0]=lst[-1]\n",
    "lst[-1]=c\n",
    "print(lst)\n",
    "# a,b=5,7\n",
    "# c=a\n",
    "# a=b\n",
    "# c=b\n"
   ]
  },
  {
   "cell_type": "code",
   "execution_count": null,
   "id": "6d7bdcf5-9ed8-4b71-a0d3-82997976683e",
   "metadata": {},
   "outputs": [],
   "source": [
    "#print all the elements present at even index of an list\n",
    "#return sum of all the even ele. in a list\n",
    "#odd\n",
    "#to create a funtion, where two list will be given, add elemts of list(length equal)\n",
    "#(length unequal)"
   ]
  },
  {
   "cell_type": "code",
   "execution_count": 76,
   "id": "02fcc130-3759-478f-ac9a-1fb900243ab2",
   "metadata": {},
   "outputs": [
    {
     "name": "stdout",
     "output_type": "stream",
     "text": [
      "[1, 3, 5]\n"
     ]
    }
   ],
   "source": [
    "#print all the elements present at even index of an list\n",
    "\n",
    "def list_evensum(lst):\n",
    "    n=len(lst)\n",
    "    ans=[]\n",
    "    for i in range(n):\n",
    "        if i%2==0:\n",
    "            ans.append(lst[i])\n",
    "    return ans\n",
    "\n",
    "lst=[1,2,3,4,5,6]\n",
    "print(lst[0::2])\n",
    "# print(list_evensum(lst))\n",
    "        \n",
    "        \n",
    "    "
   ]
  },
  {
   "cell_type": "code",
   "execution_count": 65,
   "id": "50b9bd80-15e9-40cd-85fa-f3bd8fed1a65",
   "metadata": {},
   "outputs": [
    {
     "name": "stdout",
     "output_type": "stream",
     "text": [
      "[2, 4, 6]\n"
     ]
    }
   ],
   "source": [
    "# Python program to print Even Numbers in a List\n",
    "lst=[5,8,2,10,15,7,9]\n",
    "def list_even(lst):\n",
    "    ans=[]\n",
    "    # n=len(lst)\n",
    "    for t in lst:\n",
    "        \n",
    "    # for t in range(n):\n",
    "        if t%2==0:\n",
    "            ans.append(t)\n",
    "            \n",
    "    return ans\n",
    "        \n",
    "lst=[1,2,3,4,5,6]\n",
    "print(list_even(lst))\n",
    "    "
   ]
  },
  {
   "cell_type": "code",
   "execution_count": 50,
   "id": "53f290a4-1a95-47c2-b57f-ad101e6f1161",
   "metadata": {},
   "outputs": [
    {
     "name": "stdout",
     "output_type": "stream",
     "text": [
      "120\n"
     ]
    }
   ],
   "source": [
    "def s_fact(x):\n",
    "        fact=1\n",
    "        for t in range(1,x+1):\n",
    "            fact=fact*t\n",
    "        return fact\n",
    "\n",
    "print(s_fact(5))\n",
    "    \n",
    "    "
   ]
  },
  {
   "cell_type": "code",
   "execution_count": 55,
   "id": "3744bc23-d467-4291-806f-09973531dcae",
   "metadata": {},
   "outputs": [
    {
     "name": "stdout",
     "output_type": "stream",
     "text": [
      "60.0\n"
     ]
    }
   ],
   "source": [
    "#python program for simple interest\n",
    "def s_si(P,R,T):\n",
    "    si=(P*R*T)/100\n",
    "    return si\n",
    "\n",
    "p=1000\n",
    "r=3\n",
    "t=2\n",
    "print(s_si(p,r,t))"
   ]
  },
  {
   "cell_type": "code",
   "execution_count": 61,
   "id": "e83e6852-5823-41b4-bd9f-66a5df00312b",
   "metadata": {},
   "outputs": [
    {
     "name": "stdout",
     "output_type": "stream",
     "text": [
      "12.56\n",
      "1\n"
     ]
    }
   ],
   "source": [
    "#find area of a circle\n",
    "def ar_circle(r):\n",
    "    pie=3.14\n",
    "    ar=pie*r*r\n",
    "    return ar\n",
    "\n",
    "r=2\n",
    "print(ar_circle(r))\n",
    "\n",
    "# print(10//6)"
   ]
  },
  {
   "cell_type": "code",
   "execution_count": 82,
   "id": "1fc76e4b-2353-40fe-ba09-2d1543686c12",
   "metadata": {},
   "outputs": [
    {
     "name": "stdout",
     "output_type": "stream",
     "text": [
      "True\n"
     ]
    }
   ],
   "source": [
    "#check whether the no. is prime or not\n",
    "# 23\n",
    "# 2 cases if n>1\n",
    "# n=1\n",
    "\n",
    "# def num_prime(x):\n",
    "    # isPrime=True\n",
    "    # for num in range(2,x):\n",
    "        # if x%num==0:\n",
    "            # isPrime=False\n",
    "            # break\n",
    "    # return isPrime\n",
    "    # if isPrime==True:\n",
    "    #     print(\"prime\")\n",
    "    # else: print(\"not prime\")\n",
    "        \n",
    "        \n",
    "a=23\n",
    "#if a is prime; then we need to print \"helloHello\" else \"htTeri\"\n",
    "   \n",
    "# num_prime(a)\n",
    "ans=num_prime(a)\n",
    "print(ans)\n",
    "      "
   ]
  },
  {
   "cell_type": "code",
   "execution_count": 84,
   "id": "c0ad8d90-cb3a-4b8d-8862-7f1e1fb11d60",
   "metadata": {},
   "outputs": [],
   "source": [
    " def num_prime(x):\n",
    "    \n",
    "    for num in range(2,x):\n",
    "        if x%num==0:\n",
    "            return False\n",
    "    return True\n",
    "            \n",
    "     \n",
    "    # if isPrime==True:\n",
    "    #     print(\"prime\")\n",
    "    # else: print(\"not prime\")\n",
    "\n",
    "     "
   ]
  },
  {
   "cell_type": "code",
   "execution_count": 87,
   "id": "5304e6ad-78e5-4f92-a629-7344720e4f0a",
   "metadata": {},
   "outputs": [
    {
     "name": "stdout",
     "output_type": "stream",
     "text": [
      "[54, 8, 66, 23, 9, 4, 12]\n"
     ]
    }
   ],
   "source": [
    "lst=[54,8,66,23,9,4]\n",
    "def list_append(lst,x):\n",
    "    lst.append(x)\n",
    "list_append(lst,12)\n",
    "print(lst)"
   ]
  },
  {
   "cell_type": "code",
   "execution_count": 91,
   "id": "2e995ac0-bfd6-4db5-a52d-c6d73d3c1694",
   "metadata": {},
   "outputs": [
    {
     "name": "stdout",
     "output_type": "stream",
     "text": [
      "[54, 8, 66, 23, 9]\n"
     ]
    }
   ],
   "source": [
    "lst=[54,8,66,23,9,4]\n",
    "def list_pop(lst):\n",
    "    lst.pop(-1)\n",
    "list_pop(lst)\n",
    "print(lst)"
   ]
  },
  {
   "cell_type": "code",
   "execution_count": 93,
   "id": "a1727899-ecd2-4a6d-b68e-80c7780f3945",
   "metadata": {},
   "outputs": [
    {
     "name": "stdout",
     "output_type": "stream",
     "text": [
      "hell\n"
     ]
    }
   ],
   "source": [
    "s=\"hello\"\n",
    "def string_pop(s):\n",
    "    n=len(s)\n",
    "    return s[0:n-1]\n",
    "\n",
    "ans=string_pop(s)\n",
    "print(ans)"
   ]
  },
  {
   "cell_type": "code",
   "execution_count": 2,
   "id": "9cf65500-ba6f-48b7-a0ad-d0245e0d5ce5",
   "metadata": {},
   "outputs": [
    {
     "name": "stdout",
     "output_type": "stream",
     "text": [
      "15\n"
     ]
    }
   ],
   "source": [
    "\n",
    "#print sum of first n natural no.\n",
    "def sum_sq(n):\n",
    "    ans=0\n",
    "    for num in range(1,n+1):\n",
    "        ans=ans+num\n",
    "    return ans\n",
    "\n",
    "print(sum_sq(5))\n"
   ]
  },
  {
   "cell_type": "code",
   "execution_count": 4,
   "id": "3da4fcc5-9c33-4af2-97ba-0df9125a27e0",
   "metadata": {},
   "outputs": [
    {
     "name": "stdout",
     "output_type": "stream",
     "text": [
      "14\n"
     ]
    }
   ],
   "source": [
    "#print sum of square of first n natural no.\n",
    "def sum_square(n):\n",
    "    ans=0\n",
    "    for num in range(1,n+1):\n",
    "        ans=ans+(num*num)\n",
    "    return ans\n",
    "\n",
    "print(sum_square(3))"
   ]
  },
  {
   "cell_type": "code",
   "execution_count": 23,
   "id": "2c568cb4-6272-438d-a623-993e191563fa",
   "metadata": {},
   "outputs": [
    {
     "name": "stdout",
     "output_type": "stream",
     "text": [
      "343\n"
     ]
    }
   ],
   "source": [
    "# write a program to calculate a^n\n",
    "def a_power(a,n):\n",
    "    ans=1\n",
    "    for _ in range(1,n+1):\n",
    "        ans=ans*a\n",
    "    return ans\n",
    "print(a_power(7,3))"
   ]
  },
  {
   "cell_type": "code",
   "execution_count": 62,
   "id": "4ac3724c-f144-4153-9441-f47e960513e4",
   "metadata": {},
   "outputs": [
    {
     "name": "stdout",
     "output_type": "stream",
     "text": [
      "armstrong\n"
     ]
    }
   ],
   "source": [
    "#write a program for finding no. of digits in an integer\n",
    "x=12346\n",
    "# no. of digit=5\n",
    "\n",
    "def int_digit(x):\n",
    "    count=0\n",
    "    while x>0:\n",
    "        # rem=rem%10\n",
    "        count+=1\n",
    "        x=x//10\n",
    "    return count\n",
    "\n",
    "\n",
    "# print(int_digit(x))\n",
    "\n",
    "\n",
    "\n",
    "\n",
    "\n",
    "#write a program to check whether the number is armstrong or not\n",
    "x=153\n",
    "# 1^3+5^3+3^3=y==x;True\n",
    "def s_arm(x):\n",
    "    sm=0\n",
    "    temp=x\n",
    "    n=int_digit(x)\n",
    "    while x>0:\n",
    "        rem=x%10\n",
    "        sm=sm+rem**n\n",
    "        x=x//10\n",
    "    # n=len(str(int(x)))\n",
    "    # for num in range(n):\n",
    "        # rem=x%10\n",
    "        # sm=sm+rem**n\n",
    "        # x=x//10\n",
    "    if sm==temp:\n",
    "        return \"armstrong\"\n",
    "    else: \"not armstrong\"\n",
    "        \n",
    "print(s_arm(153))"
   ]
  },
  {
   "cell_type": "code",
   "execution_count": 32,
   "id": "b001a058-0084-4be0-844e-409a78fdb58d",
   "metadata": {},
   "outputs": [
    {
     "name": "stdout",
     "output_type": "stream",
     "text": [
      "9\n"
     ]
    }
   ],
   "source": [
    "# write a program to add all the ele. of a list\n",
    "def list_add(lst):\n",
    "    add=0\n",
    "    for t in lst:\n",
    "        add=add+t\n",
    "    return add\n",
    "\n",
    "lst=[3,4,2]\n",
    "print(list_add(lst))"
   ]
  },
  {
   "cell_type": "code",
   "execution_count": 31,
   "id": "bd72fc09-dfe1-4c88-b2ed-b0d80de4ce8e",
   "metadata": {},
   "outputs": [
    {
     "name": "stdout",
     "output_type": "stream",
     "text": [
      "[6, 8, 10, 12]\n"
     ]
    }
   ],
   "source": [
    "# write a program to add two list when their length is equal\n",
    "lst=[2,3,4,5]\n",
    "bst=[4,5,6,7]\n",
    "\n",
    "def twolist_add(lst,bst):\n",
    "    n=len(lst)\n",
    "    cst=[0]*n\n",
    "    for i in range(n):\n",
    "        cst[i]=lst[i]+bst[i]\n",
    "    \n",
    "    return cst\n",
    "    \n",
    "    \n",
    "lst=[2,3,4,5]\n",
    "bst=[4,5,6,7]\n",
    "print(twolist_add(lst,bst))"
   ]
  },
  {
   "cell_type": "code",
   "execution_count": 33,
   "id": "e3ef7254-1c80-441f-8e84-31caa04a68ea",
   "metadata": {},
   "outputs": [
    {
     "name": "stdout",
     "output_type": "stream",
     "text": [
      "pppppppppp\n"
     ]
    }
   ],
   "source": [
    "# lst=[]\n",
    "# for t in range(1000):\n",
    "    # lst.append(0)\n",
    "# print(lst)\n",
    "# lst=[0]*1000\n",
    "# print(lst)\n",
    "\n",
    "s='p'*10\n",
    "print(s)"
   ]
  },
  {
   "cell_type": "code",
   "execution_count": 35,
   "id": "db0d3730-01d0-45b6-8cb7-6d950fa1b4aa",
   "metadata": {},
   "outputs": [
    {
     "name": "stdout",
     "output_type": "stream",
     "text": [
      "[4, 6, 12, 9, 8]\n"
     ]
    }
   ],
   "source": [
    "# write a program to add two list when their length is unequal\n",
    "lst=[3,4,5]     #3\n",
    "bst=[1,2,7,9,8] #5\n",
    "cst=[4,6,12,9,8]\n",
    "def sum_unequal(lst,bst):\n",
    "    n1=len(lst)\n",
    "    n2=len(bst)\n",
    "    n=max(n1,n2)\n",
    "    cst=[0]*n\n",
    "    for i in range(n1):\n",
    "        cst[i]=lst[i]\n",
    "    for i in range(n2):\n",
    "        cst[i]=bst[i]+cst[i]\n",
    "    return cst\n",
    "\n",
    "lst=[3,4,5]     \n",
    "bst=[1,2,7,9,8]  \n",
    "print(sum_unequal(lst,bst))\n",
    "\n",
    "        "
   ]
  },
  {
   "cell_type": "code",
   "execution_count": 37,
   "id": "44c73e01-7494-4038-afaf-959a276c0fee",
   "metadata": {},
   "outputs": [
    {
     "name": "stdout",
     "output_type": "stream",
     "text": [
      "[4, 6, 12]\n"
     ]
    }
   ],
   "source": [
    "#write a program to add two list \n",
    "lst=[3,4,5]     \n",
    "bst=[1,2,7,9,8]\n",
    "cst=[4,6,12]\n",
    "\n",
    "def s_sum(lst,bst):\n",
    "    n1=len(lst)\n",
    "    n2=len(bst)\n",
    "    n=min(n1,n2)\n",
    "    cst=[0]*n\n",
    "    for i in range(n):\n",
    "        cst[i]=lst[i]+bst[i]\n",
    "    return cst\n",
    "\n",
    "print(s_sum(lst,bst))\n",
    "        "
   ]
  },
  {
   "cell_type": "code",
   "execution_count": 44,
   "id": "a9a0d345-bc9a-4ea5-a9bb-c769f1eeed72",
   "metadata": {},
   "outputs": [
    {
     "name": "stdout",
     "output_type": "stream",
     "text": [
      "[8, 6, 2, 1]\n"
     ]
    }
   ],
   "source": [
    "#Python Program for reversing a list\n",
    "lst=[1,2,6,8]\n",
    "revlst=[8,6,2,1]\n",
    "\n",
    "def rev_list(lst):\n",
    "   \n",
    "    # n=len(lst)\n",
    "    # lst=lst[-1::-1]\n",
    "    # return lst[-1::-1]\n",
    "    return lst[::-1]\n",
    "    \n",
    "\n",
    "print(rev_list(lst))\n",
    "    "
   ]
  },
  {
   "cell_type": "code",
   "execution_count": 55,
   "id": "724cc69c-7a66-46d1-924d-3b5ecc8e186f",
   "metadata": {},
   "outputs": [
    {
     "name": "stdout",
     "output_type": "stream",
     "text": [
      "[6, 1, 8, 3]\n"
     ]
    }
   ],
   "source": [
    "#Python Program for reversing a list\n",
    "lst=[3,8,1,6]\n",
    "rev=[6,1,8,3]\n",
    "\n",
    "def rev_lst(lst):\n",
    "    n=len(lst)\n",
    "    s=0\n",
    "    e=n-1\n",
    "    while s<e:\n",
    "        lst[s],lst[e]=lst[e],lst[s]\n",
    "        s=s+1\n",
    "        e=e-1\n",
    "    # return lst\n",
    "    \n",
    "\n",
    "\n",
    "    \n",
    "    # temp=lst[i]\n",
    "    # n=len(lst)\n",
    "    # for i in range(n//2):\n",
    "        # lst[0],lst[n-1]=lst[n-1],lst[0]\n",
    "        # lst[1],lst[n-2]=lst[n-2],lst[1]\n",
    "        # lst[i],lst[n-i-1]=lst[n-i-1],lst[i]\n",
    "    # return lst\n",
    "\n",
    "rev_lst(lst)\n",
    "print(lst)\n",
    "    "
   ]
  },
  {
   "cell_type": "code",
   "execution_count": 64,
   "id": "72ea72d8-a5a9-4947-8886-7aa11705aec1",
   "metadata": {},
   "outputs": [],
   "source": [
    "# lst=[4,7,3,5,7,93,90,80,60,40,3,6, 8, 9, 324,6, 7, 12, 334]\n",
    "#      0 1 2 3 4 5   6  7  8 9 10 11 12 13 14  15 16 17  18"
   ]
  },
  {
   "cell_type": "code",
   "execution_count": null,
   "id": "da0983d2-1826-4e66-bfe0-13736a2dea91",
   "metadata": {},
   "outputs": [],
   "source": []
  }
 ],
 "metadata": {
  "kernelspec": {
   "display_name": "Python 3 (ipykernel)",
   "language": "python",
   "name": "python3"
  },
  "language_info": {
   "codemirror_mode": {
    "name": "ipython",
    "version": 3
   },
   "file_extension": ".py",
   "mimetype": "text/x-python",
   "name": "python",
   "nbconvert_exporter": "python",
   "pygments_lexer": "ipython3",
   "version": "3.11.4"
  }
 },
 "nbformat": 4,
 "nbformat_minor": 5
}
